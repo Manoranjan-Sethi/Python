{
 "cells": [
  {
   "cell_type": "markdown",
   "metadata": {},
   "source": [
    "# Python"
   ]
  },
  {
   "cell_type": "markdown",
   "metadata": {},
   "source": [
    "##### Extension of Python\n",
    "\n",
    "The extension of Python is .py but in jupyter file format is .ipynb (Interactive Python Notebook)"
   ]
  },
  {
   "cell_type": "markdown",
   "metadata": {},
   "source": [
    "##### Python Keywords and Identifiers\n",
    "\n",
    "Keywords - Reserved words (can't be used as identifiers)\n",
    "\n",
    "Identifiers - Assigning own variables"
   ]
  }
 ],
 "metadata": {
  "language_info": {
   "name": "python"
  }
 },
 "nbformat": 4,
 "nbformat_minor": 2
}
